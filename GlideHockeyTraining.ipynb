{
 "cells": [
  {
   "cell_type": "markdown",
   "metadata": {},
   "source": [
    "## Houston Machine Learning Meet Up\n",
    "### Neilkunal Panchal\n",
    "#### Saturday 12th October 2019\n",
    "### Multi Agent Reinforcement Learning for Glide Hockey"
   ]
  },
  {
   "cell_type": "code",
   "execution_count": 1,
   "metadata": {},
   "outputs": [],
   "source": [
    "import torch\n",
    "import numpy as np\n",
    "from mlagents.envs.environment import UnityEnvironment"
   ]
  },
  {
   "cell_type": "code",
   "execution_count": 2,
   "metadata": {},
   "outputs": [
    {
     "name": "stderr",
     "output_type": "stream",
     "text": [
      "INFO:mlagents.envs:\n",
      "'Academy' started successfully!\n",
      "Unity Academy name: Academy\n",
      "        Number of Brains: 2\n",
      "        Number of Training Brains : 1\n",
      "        Reset Parameters :\n",
      "\t\tscale -> 1.0\n",
      "\t\tgravity -> 9.8100004196167\n",
      "Unity brain name: HockeyBrain\n",
      "        Number of Visual Observations (per agent): 0\n",
      "        Vector Observation space size (per agent): 8\n",
      "        Number of stacked Vector Observation: 3\n",
      "        Vector Action space type: continuous\n",
      "        Vector Action space size (per agent): [2]\n",
      "        Vector Action descriptions: , \n",
      "Unity brain name: HockeyPlayer\n",
      "        Number of Visual Observations (per agent): 0\n",
      "        Vector Observation space size (per agent): 8\n",
      "        Number of stacked Vector Observation: 3\n",
      "        Vector Action space type: continuous\n",
      "        Vector Action space size (per agent): [2]\n",
      "        Vector Action descriptions: left, right\n"
     ]
    }
   ],
   "source": [
    "# env = UnityEnvironment(file_name = \"/Users/neil_panchal/Desktop/AirHockey.app\", worker_id=1)\n",
    "env = UnityEnvironment(file_name = 'AirHockey.app', worker_id=13)\n",
    "default_brain = env.brain_names[0]\n",
    "brain = env.brains[default_brain]"
   ]
  },
  {
   "cell_type": "code",
   "execution_count": 3,
   "metadata": {},
   "outputs": [],
   "source": [
    "train_mode = True"
   ]
  },
  {
   "cell_type": "code",
   "execution_count": 4,
   "metadata": {},
   "outputs": [],
   "source": [
    "# Reset the environment\n",
    "env_info = env.reset(train_mode=train_mode)[default_brain]"
   ]
  },
  {
   "cell_type": "code",
   "execution_count": 5,
   "metadata": {},
   "outputs": [
    {
     "data": {
      "text/plain": [
       "array([[  0.        ,   0.        ,   0.        ,   0.        ,\n",
       "          0.        ,   0.        ,   0.        ,   0.        ,\n",
       "          0.        ,   0.        ,   0.        ,   0.        ,\n",
       "          0.        ,   0.        ,   0.        ,   0.        ,\n",
       "          3.38993621,   0.        ,  -0.        ,   0.        ,\n",
       "         -0.        ,   0.        , -20.        ,   1.        ],\n",
       "       [  0.        ,   0.        ,   0.        ,   0.        ,\n",
       "          0.        ,   0.        ,   0.        ,   0.        ,\n",
       "          0.        ,   0.        ,   0.        ,   0.        ,\n",
       "          0.        ,   0.        ,   0.        ,   0.        ,\n",
       "          2.70024681,   0.        ,   0.        ,   0.        ,\n",
       "          0.        ,   0.        ,  20.        ,   1.        ]])"
      ]
     },
     "execution_count": 5,
     "metadata": {},
     "output_type": "execute_result"
    }
   ],
   "source": [
    "env_info.vector_observations"
   ]
  },
  {
   "cell_type": "code",
   "execution_count": 6,
   "metadata": {},
   "outputs": [
    {
     "name": "stdout",
     "output_type": "stream",
     "text": [
      "Agent state looks like: \n",
      "[  0.           0.           0.           0.           0.\n",
      "   0.           0.           0.           0.           0.\n",
      "   0.           0.           0.           0.           0.\n",
      "   0.           3.38993621   0.          -0.           0.\n",
      "  -0.           0.         -20.           1.        ]\n"
     ]
    }
   ],
   "source": [
    "# Examine the state space for the default brain\n",
    "print(\"Agent state looks like: \\n{}\".format(env_info.vector_observations[0]))\n",
    "\n",
    "# Examine the observation space for the default brain\n",
    "for observation in env_info.visual_observations:\n",
    "    print(\"Agent observations look like:\")\n",
    "    if observation.shape[3] == 3:\n",
    "        plt.imshow(observation[0,:,:,:])\n",
    "    else:\n",
    "        plt.imshow(observation[0,:,:,0])"
   ]
  },
  {
   "cell_type": "code",
   "execution_count": 7,
   "metadata": {},
   "outputs": [
    {
     "name": "stdout",
     "output_type": "stream",
     "text": [
      "[0.0, 0.0]\n",
      "continuous\n"
     ]
    },
    {
     "data": {
      "text/plain": [
       "array([[  0.        ,   0.        ,   0.        ,   0.        ,\n",
       "          0.        ,   0.        ,   0.        ,   0.        ,\n",
       "          0.        ,   0.        ,   0.        ,   0.        ,\n",
       "          0.        ,   0.        ,   0.        ,   0.        ,\n",
       "          3.38993621,   0.        ,  -0.        ,   0.        ,\n",
       "         -0.        ,   0.        , -20.        ,   1.        ],\n",
       "       [  0.        ,   0.        ,   0.        ,   0.        ,\n",
       "          0.        ,   0.        ,   0.        ,   0.        ,\n",
       "          0.        ,   0.        ,   0.        ,   0.        ,\n",
       "          0.        ,   0.        ,   0.        ,   0.        ,\n",
       "          2.70024681,   0.        ,   0.        ,   0.        ,\n",
       "          0.        ,   0.        ,  20.        ,   1.        ]])"
      ]
     },
     "execution_count": 7,
     "metadata": {},
     "output_type": "execute_result"
    }
   ],
   "source": [
    "print(env_info.rewards)\n",
    "print(brain.vector_action_space_type)\n",
    "env_info.vector_observations"
   ]
  },
  {
   "cell_type": "code",
   "execution_count": 8,
   "metadata": {
    "scrolled": false
   },
   "outputs": [
    {
     "name": "stdout",
     "output_type": "stream",
     "text": [
      "Total reward this episode: -0.1280000302940607\n",
      "Total reward this episode: -2.803000209853053\n",
      "Total reward this episode: -0.0800000112503767\n",
      "Total reward this episode: 0.05899999663233757\n",
      "Total reward this episode: -1.5130001185461879\n",
      "Total reward this episode: -0.1350000249221921\n",
      "Total reward this episode: -0.11300001945346594\n",
      "Total reward this episode: 0.026999990455806255\n",
      "Total reward this episode: 0.05399998649954796\n",
      "Total reward this episode: -0.11400002148002386\n",
      "Total reward this episode: -2.280000166967511\n",
      "Total reward this episode: -0.2200000211596489\n",
      "Total reward this episode: -0.11700002755969763\n",
      "Total reward this episode: -2.6900001894682646\n",
      "Total reward this episode: -2.6900001894682646\n",
      "Total reward this episode: -0.1160000255331397\n",
      "Total reward this episode: -0.12100001610815525\n",
      "Total reward this episode: -5.0100003546103835\n",
      "Total reward this episode: -3.0000002114102244\n",
      "Total reward this episode: -0.1040000207722187\n",
      "Total reward this episode: -0.19900003727525473\n",
      "Total reward this episode: -0.10000001266598701\n",
      "Total reward this episode: 0.0169999897480011\n",
      "Total reward this episode: 0.0749999899417162\n",
      "Total reward this episode: -1.6140001276507974\n",
      "Total reward this episode: -0.1080000288784504\n",
      "Total reward this episode: -0.10500002279877663\n",
      "Total reward this episode: -0.1590000344440341\n",
      "Total reward this episode: -0.09300001803785563\n",
      "Total reward this episode: -0.10600002482533455\n",
      "Total reward this episode: -0.09100001398473978\n",
      "Total reward this episode: -0.39400004129856825\n",
      "Total reward this episode: -0.36000002454966307\n",
      "Total reward this episode: -0.12900003232061863\n",
      "Total reward this episode: -0.09700002614408731\n",
      "Total reward this episode: -5.0100003546103835\n",
      "Total reward this episode: -0.24300002865493298\n",
      "Total reward this episode: 0.06299998518079519\n",
      "Total reward this episode: -0.10600002482533455\n",
      "Total reward this episode: -0.11900003161281347\n",
      "Total reward this episode: -0.06100001186132431\n",
      "Total reward this episode: -0.700000056065619\n",
      "Total reward this episode: -0.11500002350658178\n",
      "Total reward this episode: -2.580000181682408\n",
      "Total reward this episode: -0.11900003161281347\n",
      "Total reward this episode: -1.4940001191571355\n",
      "Total reward this episode: -0.6700000464916229\n",
      "Total reward this episode: -0.10900003090500832\n",
      "Total reward this episode: -0.10700002685189247\n",
      "Total reward this episode: -0.10200001671910286\n",
      "Total reward this episode: -0.11000001337379217\n",
      "Total reward this episode: -0.8400000659748912\n",
      "Total reward this episode: -1.3700000885874033\n",
      "Total reward this episode: -0.10300001874566078\n",
      "Total reward this episode: -0.11500002350658178\n",
      "Total reward this episode: 0.06999999936670065\n",
      "Total reward this episode: -0.10000001266598701\n",
      "Total reward this episode: 0.06699999328702688\n",
      "Total reward this episode: -0.1040000207722187\n",
      "Total reward this episode: -0.11300001945346594\n",
      "Total reward this episode: -0.6000000415369868\n",
      "Total reward this episode: -0.11900003161281347\n",
      "Total reward this episode: -1.3100000992417336\n",
      "Total reward this episode: -0.05500001925975084\n",
      "Total reward this episode: -3.740000263787806\n",
      "Total reward this episode: 0.05399998649954796\n",
      "Total reward this episode: 0.021999980323016644\n",
      "Total reward this episode: -0.1160000255331397\n",
      "Total reward this episode: -0.10100001469254494\n",
      "Total reward this episode: -0.1040000207722187\n",
      "Total reward this episode: -0.10900003090500832\n",
      "Total reward this episode: -0.10900003090500832\n",
      "Total reward this episode: -0.09000001195818186\n",
      "Total reward this episode: -0.03200001176446676\n",
      "Total reward this episode: -0.11500002350658178\n",
      "Total reward this episode: -0.10600002482533455\n",
      "Total reward this episode: 0.01299998164176941\n",
      "Total reward this episode: -0.12900003232061863\n",
      "Total reward this episode: -0.10000001266598701\n",
      "Total reward this episode: 0.03999999724328518\n",
      "Total reward this episode: -0.11000001337379217\n",
      "Total reward this episode: -0.3400000296533108\n",
      "Total reward this episode: 0.023999984376132488\n",
      "Total reward this episode: -0.013000012375414371\n",
      "Total reward this episode: -5.0100003546103835\n",
      "Total reward this episode: -5.0100003546103835\n",
      "Total reward this episode: -3.3300002347677946\n",
      "Total reward this episode: -0.12600002624094486\n",
      "Total reward this episode: -0.7900000624358654\n",
      "Total reward this episode: -2.140000157058239\n",
      "Total reward this episode: -0.32000002171844244\n",
      "Total reward this episode: -0.021000009030103683\n",
      "Total reward this episode: -0.10100001469254494\n",
      "Total reward this episode: 0.014999985694885254\n",
      "Total reward this episode: -3.4200002485886216\n",
      "Total reward this episode: -0.009000023826956749\n",
      "Total reward this episode: -0.11700002755969763\n",
      "Total reward this episode: -1.0800000755116343\n",
      "Total reward this episode: -1.3000000910833478\n",
      "Total reward this episode: -5.0100003546103835\n"
     ]
    }
   ],
   "source": [
    "for episode in range(100):\n",
    "    env_info = env.reset(train_mode=train_mode)[default_brain]\n",
    "    done = False\n",
    "    episode_rewards = 0\n",
    "    while not done:\n",
    "        action_size = brain.vector_action_space_size\n",
    "        if brain.vector_action_space_type == 'continuous':\n",
    "            env_info = env.step(np.random.randn(len(env_info.agents), \n",
    "                                                action_size[0]))[default_brain]\n",
    "        else:\n",
    "            action = np.column_stack([np.random.randint(0, action_size[i], size=(len(env_info.agents))) for i in range(len(action_size))])\n",
    "            env_info = env.step(action)[default_brain]\n",
    "        episode_rewards += env_info.rewards[0]\n",
    "        done = env_info.local_done[0]\n",
    "    print(\"Total reward this episode: {}\".format(episode_rewards))"
   ]
  },
  {
   "cell_type": "code",
   "execution_count": 9,
   "metadata": {},
   "outputs": [],
   "source": [
    "# env.close()"
   ]
  },
  {
   "cell_type": "code",
   "execution_count": 10,
   "metadata": {},
   "outputs": [],
   "source": [
    "# get the default brain\n",
    "brain_name = env.brain_names[0]\n",
    "brain = env.brains[brain_name]"
   ]
  },
  {
   "cell_type": "code",
   "execution_count": 11,
   "metadata": {},
   "outputs": [],
   "source": [
    "brain\n",
    "#reset the environment\n",
    "env_info = env.reset(train_mode=True)[brain_name]"
   ]
  },
  {
   "cell_type": "code",
   "execution_count": 12,
   "metadata": {},
   "outputs": [
    {
     "name": "stdout",
     "output_type": "stream",
     "text": [
      "Number of agents: 2\n",
      "Size of each action: [2]\n",
      "States is: [[ 0.          0.          0.          0.          0.          0.\n",
      "   0.          0.          0.          0.          0.          0.\n",
      "   0.          0.          0.          0.          2.95635414  0.\n",
      "  -0.          0.         -3.62460995 -1.29212058  1.01368487  0.        ]\n",
      " [ 0.          0.          0.          0.          0.          0.\n",
      "   0.          0.          0.          0.          0.          0.\n",
      "   0.          0.          0.          0.          3.07170582  0.\n",
      "   0.          0.          3.62460995 -1.29212058 -1.01368487  0.        ]]\n",
      "(24,)\n",
      "There are 2 agents. Each observes a state with length: (24,)\n",
      "The state for the first agent looks like: [ 0.          0.          0.          0.          0.          0.\n",
      "  0.          0.          0.          0.          0.          0.\n",
      "  0.          0.          0.          0.          2.95635414  0.\n",
      " -0.          0.         -3.62460995 -1.29212058  1.01368487  0.        ]\n"
     ]
    }
   ],
   "source": [
    "#\n",
    "\n",
    "# number of agents \n",
    "num_agents = len(env_info.agents)\n",
    "print('Number of agents:', num_agents)\n",
    "\n",
    "# size of each action\n",
    "action_size = brain.vector_action_space_size\n",
    "print('Size of each action:', action_size)\n",
    "\n",
    "# examine the state space \n",
    "states = env_info.vector_observations\n",
    "print('States is:', states)\n",
    "state_size = np.shape(states[1])\n",
    "print(state_size)\n",
    "# state_size=8\n",
    "print('There are {} agents. Each observes a state with length: {}'.format(states.shape[0], state_size))\n",
    "print('The state for the first agent looks like:', states[0])"
   ]
  },
  {
   "cell_type": "code",
   "execution_count": 13,
   "metadata": {},
   "outputs": [
    {
     "data": {
      "text/plain": [
       "2"
      ]
     },
     "execution_count": 13,
     "metadata": {},
     "output_type": "execute_result"
    }
   ],
   "source": [
    "action_size[0]"
   ]
  },
  {
   "cell_type": "code",
   "execution_count": 14,
   "metadata": {},
   "outputs": [
    {
     "name": "stdout",
     "output_type": "stream",
     "text": [
      "cpu\n",
      "False\n"
     ]
    }
   ],
   "source": [
    "device = torch.device(\"cuda:0\" if torch.cuda.is_available() else \"cpu\")\n",
    "print(device)\n",
    "print((device is  \"cuda:0\"))"
   ]
  },
  {
   "cell_type": "code",
   "execution_count": 15,
   "metadata": {},
   "outputs": [],
   "source": [
    "# env_info = env.reset(train_mode=train_mode)[brain_name] \n",
    "# actions = get_actions(states, addNoise)           \n",
    "# env_info = env.step(actions)[brain_name] \n",
    "# np.shape(env_info.vector_observations)"
   ]
  },
  {
   "cell_type": "code",
   "execution_count": 16,
   "metadata": {},
   "outputs": [
    {
     "name": "stdout",
     "output_type": "stream",
     "text": [
      "state size is: 24\n",
      "action size is : 2\n",
      "on init device is: cpu\n",
      "False\n",
      "action size is:  2\n",
      "action size is:  2\n",
      "on init device is: cpu\n",
      "False\n",
      "action size is:  2\n",
      "action size is:  2\n"
     ]
    }
   ],
   "source": [
    "from ddpg_agent import Agents\n",
    "import matplotlib.pyplot as plt\n",
    "from collections import deque\n",
    "# num_agents=1\n",
    "# agent = Agents(state_size=state_size, action_size=action_size, num_agents=num_agents, random_seed=0)\n",
    "# agent.action_size\n",
    "print('state size is:', state_size[0])\n",
    "print('action size is :', action_size[0])\n",
    "agent_0 = Agents(state_size=state_size[0], action_size=action_size[0], num_agents=1, random_seed=0)\n",
    "agent_1 = Agents(state_size=state_size[0], action_size=action_size[0], num_agents=1, random_seed=0)"
   ]
  },
  {
   "cell_type": "code",
   "execution_count": 17,
   "metadata": {},
   "outputs": [],
   "source": [
    "def get_actions(states, add_noise):\n",
    "    '''gets actions for each agent and then combines them into one array'''\n",
    "    action_0 = agent_0.act(states, add_noise)    \n",
    "    action_1 = agent_1.act(states, add_noise)   \n",
    "    return np.concatenate((action_0, action_1), axis=0).flatten()"
   ]
  },
  {
   "cell_type": "code",
   "execution_count": 18,
   "metadata": {},
   "outputs": [],
   "source": [
    "solved = 1\n",
    "consecutiveEpisodes = 10\n",
    "printFrequency = 1\n",
    "addNoise = True\n",
    "\n",
    "def Maddpg(n_episodes=20, max_t=1000, train_mode=True):\n",
    "    \"\"\"Multi-Agent Deep Deterministic Policy Gradient (MADDPG)\n",
    "    \n",
    "    Params\n",
    "    ======\n",
    "        n_episodes (int)      : maximum number of training episodes\n",
    "        max_t (int)           : maximum number of timesteps per episode\n",
    "        train_mode (bool)     : if 'True' set environment to training mode\n",
    "\n",
    "    \"\"\"\n",
    "    scores_window = deque(maxlen=consecutiveEpisodes)\n",
    "    scores_all = []\n",
    "    moving_average = []\n",
    "    best_score = -np.inf\n",
    "    best_episode = 0\n",
    "    already_solved = False    \n",
    "\n",
    "    for i_episode in range(1, n_episodes+1):\n",
    "        env_info = env.reset(train_mode=train_mode)[brain_name]  \n",
    "        states = np.reshape(env_info.vector_observations, (1,48)) # combine states\n",
    "        agent_0.reset()\n",
    "        agent_1.reset()\n",
    "        scores = np.zeros(num_agents)\n",
    "        while True:\n",
    "            actions = get_actions(states, addNoise)           \n",
    "            env_info = env.step(actions)[brain_name] \n",
    "#             print('shape of observations is', np.shape(env_info.vector_observations))\n",
    "#             print('observations are', env_info.vector_observations)\n",
    "#             print('actions', actions)\n",
    "            next_states = np.reshape(env_info.vector_observations, (1, 48)) # combine the agent next states\n",
    "            rewards = env_info.rewards                         # get reward        \n",
    "            done = env_info.local_done                         # see if episode finished\n",
    "            agent_0.step(states, actions, rewards[0], next_states, done, 0) # agent 1 learning\n",
    "            agent_1.step(states, actions, rewards[1], next_states, done, 1) # agent 2 learning\n",
    "            scores += np.max(rewards)                          # update the score for each agent\n",
    "            states = next_states                              \n",
    "            if np.any(done):                                   # exit loop if episode finished\n",
    "                break\n",
    "\n",
    "        ep_best_score = np.max(scores)\n",
    "        scores_window.append(ep_best_score)\n",
    "        scores_all.append(ep_best_score)\n",
    "        moving_average.append(np.mean(scores_window))\n",
    "\n",
    "        # save best score                        \n",
    "        if ep_best_score > best_score:\n",
    "            best_score = ep_best_score\n",
    "            best_episode = i_episode\n",
    "        \n",
    "        # print results\n",
    "        if i_episode % printFrequency == 0:\n",
    "            print('Episodes {:0>4d}-{:0>4d}\\tMax Reward: {:.3f}\\tMoving Average: {:.3f}'.format(\n",
    "                i_episode-printFrequency, i_episode, np.max(scores_all[-printFrequency:]), moving_average[-1]))\n",
    "\n",
    "        # determine if environment is solved and keep best performing models\n",
    "        if moving_average[-1] >= solved:\n",
    "            if not already_solved:\n",
    "                print('<-- Environment solved in {:d} episodes! \\\n",
    "                \\n<-- Moving Average: {:.3f} over past {:d} episodes'.format(\n",
    "                    i_episode-consecutiveEpisodes, moving_average[-1], consecutiveEpisodes))\n",
    "                already_solved = True\n",
    "                # save weights\n",
    "                torch.save(agent_0.actor_local.state_dict(), 'checkpoint_actor_0.pth')\n",
    "                torch.save(agent_0.critic_local.state_dict(), 'checkpoint_critic_0.pth')\n",
    "                torch.save(agent_1.actor_local.state_dict(), 'checkpoint_actor_1.pth')\n",
    "                torch.save(agent_1.critic_local.state_dict(), 'checkpoint_critic_1.pth')\n",
    "            elif ep_best_score >= best_score:\n",
    "                print('<-- Best episode so far!\\\n",
    "                \\nEpisode {:0>4d}\\tMax Reward: {:.3f}\\tMoving Average: {:.3f}'.format(\n",
    "                i_episode, ep_best_score, moving_average[-1]))\n",
    "                # save weights\n",
    "                torch.save(agent_0.actor_local.state_dict(), 'checkpoint_actor_0.pth')\n",
    "                torch.save(agent_0.critic_local.state_dict(), 'checkpoint_critic_0.pth')\n",
    "                torch.save(agent_1.actor_local.state_dict(), 'checkpoint_actor_1.pth')\n",
    "                torch.save(agent_1.critic_local.state_dict(), 'checkpoint_critic_1.pth')\n",
    "            elif (i_episode-best_episode) >= 100:\n",
    "                # stop training if model stops converging\n",
    "                print('<-- Training stopped. Best score not matched or exceeded for 200 episodes')\n",
    "                break\n",
    "            else:\n",
    "                continue\n",
    "            \n",
    "    return scores_all, moving_average"
   ]
  },
  {
   "cell_type": "code",
   "execution_count": 19,
   "metadata": {},
   "outputs": [
    {
     "name": "stderr",
     "output_type": "stream",
     "text": [
      "/Users/neil_panchal/Desktop/ddpg_agent.py:139: UserWarning: Using a target size (torch.Size([128, 2])) that is different to the input size (torch.Size([128, 1])). This will likely lead to incorrect results due to broadcasting. Please ensure they have the same size.\n",
      "  critic_loss = F.mse_loss(Q_expected, Q_targets)\n"
     ]
    },
    {
     "name": "stdout",
     "output_type": "stream",
     "text": [
      "Episodes 0000-0001\tMax Reward: -3.167\tMoving Average: -3.167\n",
      "Episodes 0001-0002\tMax Reward: -0.438\tMoving Average: -1.803\n",
      "Episodes 0002-0003\tMax Reward: -0.739\tMoving Average: -1.448\n",
      "Episodes 0003-0004\tMax Reward: -0.126\tMoving Average: -1.118\n",
      "Episodes 0004-0005\tMax Reward: -0.221\tMoving Average: -0.938\n",
      "Episodes 0005-0006\tMax Reward: -2.567\tMoving Average: -1.210\n",
      "Episodes 0006-0007\tMax Reward: -3.846\tMoving Average: -1.586\n",
      "Episodes 0007-0008\tMax Reward: -1.566\tMoving Average: -1.584\n",
      "Episodes 0008-0009\tMax Reward: -0.406\tMoving Average: -1.453\n",
      "Episodes 0009-0010\tMax Reward: -2.709\tMoving Average: -1.579\n",
      "Episodes 0010-0011\tMax Reward: -3.614\tMoving Average: -1.623\n",
      "Episodes 0011-0012\tMax Reward: -2.342\tMoving Average: -1.814\n",
      "Episodes 0012-0013\tMax Reward: -0.109\tMoving Average: -1.751\n",
      "Episodes 0013-0014\tMax Reward: -0.995\tMoving Average: -1.838\n",
      "Episodes 0014-0015\tMax Reward: -0.079\tMoving Average: -1.823\n",
      "Episodes 0015-0016\tMax Reward: -0.008\tMoving Average: -1.567\n",
      "Episodes 0016-0017\tMax Reward: -1.593\tMoving Average: -1.342\n",
      "Episodes 0017-0018\tMax Reward: -1.833\tMoving Average: -1.369\n",
      "Episodes 0018-0019\tMax Reward: -0.406\tMoving Average: -1.369\n",
      "Episodes 0019-0020\tMax Reward: -0.109\tMoving Average: -1.109\n"
     ]
    },
    {
     "data": {
      "image/png": "[encoded data removed]",
      "text/plain": [
       "<Figure size 432x288 with 1 Axes>"
      ]
     },
     "metadata": {
      "needs_background": "light"
     },
     "output_type": "display_data"
    }
   ],
   "source": [
    "scores, averages = Maddpg()\n",
    "\n",
    "fig = plt.figure()\n",
    "ax = fig.add_subplot(111)\n",
    "plt.plot(np.arange(1, len(scores)+1), scores)\n",
    "plt.ylabel('Score')\n",
    "plt.xlabel('Episode #')\n",
    "plt.show()"
   ]
  },
  {
   "cell_type": "code",
   "execution_count": 20,
   "metadata": {},
   "outputs": [],
   "source": [
    "CONSEC_EPISODES = 10\n",
    "PRINT_EVERY = 1\n",
    "addNoise = False"
   ]
  },
  {
   "cell_type": "code",
   "execution_count": 21,
   "metadata": {},
   "outputs": [
    {
     "name": "stdout",
     "output_type": "stream",
     "text": [
      "on init device is: cpu\n",
      "False\n",
      "action size is:  2\n",
      "action size is:  2\n",
      "on init device is: cpu\n",
      "False\n",
      "action size is:  2\n",
      "action size is:  2\n"
     ]
    },
    {
     "data": {
      "text/plain": [
       "<All keys matched successfully>"
      ]
     },
     "execution_count": 21,
     "metadata": {},
     "output_type": "execute_result"
    }
   ],
   "source": [
    "## reinitialize the agents (if needed)\n",
    "agent_0 = Agents(state_size[0], action_size[0], num_agents=1, random_seed=0)\n",
    "agent_1 = Agents(state_size[0], action_size[0], num_agents=1, random_seed=0)\n",
    "\n",
    "# load the weights from file\n",
    "agent_0_weights = 'checkpoint_actor_0.pth'\n",
    "agent_1_weights = 'checkpoint_actor_1.pth'\n",
    "agent_0.actor_local.load_state_dict(torch.load(agent_0_weights))\n",
    "agent_1.actor_local.load_state_dict(torch.load(agent_1_weights))"
   ]
  },
  {
   "cell_type": "code",
   "execution_count": null,
   "metadata": {},
   "outputs": [
    {
     "name": "stdout",
     "output_type": "stream",
     "text": [
      "Episodes 0000-0001\tMax Reward: -0.092\tMoving Average: -0.092\n",
      "Episodes 0001-0002\tMax Reward: -5.010\tMoving Average: -2.551\n",
      "Episodes 0002-0003\tMax Reward: -5.010\tMoving Average: -3.371\n"
     ]
    }
   ],
   "source": [
    "def test(n_episodes=10, max_t=1000, train_mode=False):\n",
    "\n",
    "    scores_window = deque(maxlen=consecutiveEpisodes)\n",
    "    scores_all = []\n",
    "    moving_average = []  \n",
    "\n",
    "    for i_episode in range(1, n_episodes+1):\n",
    "        env_info = env.reset(train_mode=train_mode)[brain_name]         # reset the environment\n",
    "        states = np.reshape(env_info.vector_observations, (1,48)) # get states and combine them\n",
    "        scores = np.zeros(num_agents)\n",
    "        while True:\n",
    "            actions = get_actions(states, addNoise)           # choose agent actions and combine them\n",
    "            env_info = env.step(actions)[brain_name]           # send both agents' actions together to the environment\n",
    "            next_states = np.reshape(env_info.vector_observations, (1, 48)) # combine the agent next states\n",
    "            rewards = env_info.rewards                         # get reward\n",
    "            done = env_info.local_done                         # see if episode finished\n",
    "            scores += np.max(rewards)                          # update the score for each agent\n",
    "            states = next_states                               # roll over states to next time step\n",
    "            if np.any(done):                                   # exit loop if episode finished\n",
    "                break\n",
    "\n",
    "        ep_best_score = np.max(scores)\n",
    "        scores_window.append(ep_best_score)\n",
    "        scores_all.append(ep_best_score)\n",
    "        moving_average.append(np.mean(scores_window))\n",
    "\n",
    "        # print results\n",
    "        if i_episode % printFrequency == 0:\n",
    "            print('Episodes {:0>4d}-{:0>4d}\\tMax Reward: {:.3f}\\tMoving Average: {:.3f}'.format(\n",
    "                i_episode-printFrequency, i_episode, np.max(scores_all[-PRINT_EVERY:]), moving_average[-1]))\n",
    "            \n",
    "    return scores_all, moving_average\n",
    "test()\n",
    "\n"
   ]
  },
  {
   "cell_type": "code",
   "execution_count": null,
   "metadata": {},
   "outputs": [],
   "source": []
  },
  {
   "cell_type": "code",
   "execution_count": null,
   "metadata": {},
   "outputs": [],
   "source": []
  },
  {
   "cell_type": "code",
   "execution_count": null,
   "metadata": {},
   "outputs": [],
   "source": []
  },
  {
   "cell_type": "code",
   "execution_count": null,
   "metadata": {},
   "outputs": [],
   "source": []
  },
  {
   "cell_type": "code",
   "execution_count": null,
   "metadata": {},
   "outputs": [],
   "source": []
  },
  {
   "cell_type": "code",
   "execution_count": null,
   "metadata": {},
   "outputs": [],
   "source": []
  },
  {
   "cell_type": "code",
   "execution_count": null,
   "metadata": {},
   "outputs": [],
   "source": []
  },
  {
   "cell_type": "code",
   "execution_count": null,
   "metadata": {},
   "outputs": [],
   "source": []
  },
  {
   "cell_type": "code",
   "execution_count": null,
   "metadata": {},
   "outputs": [],
   "source": []
  }
 ],
 "metadata": {
  "kernelspec": {
   "display_name": "Python 3",
   "language": "python",
   "name": "python3"
  },
  "language_info": {
   "codemirror_mode": {
    "name": "ipython",
    "version": 3
   },
   "file_extension": ".py",
   "mimetype": "text/x-python",
   "name": "python",
   "nbconvert_exporter": "python",
   "pygments_lexer": "ipython3",
   "version": "3.6.9"
  }
 },
 "nbformat": 4,
 "nbformat_minor": 2
}
