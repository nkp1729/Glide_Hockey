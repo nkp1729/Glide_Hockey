{
 "cells": [
  {
   "cell_type": "markdown",
   "metadata": {},
   "source": [
    "## Houston Machine Learning Meet Up\n",
    "### Neilkunal Panchal\n",
    "#### Saturday 12th October 2019\n",
    "### Multi Agent Reinforcement Learning for Glide Hockey"
   ]
  },
  {
   "cell_type": "markdown",
   "metadata": {},
   "source": [
    "# 1.0 Import Dependencies and Load Environments\n",
    "mlagents, numpy and pytorch"
   ]
  },
  {
   "cell_type": "code",
   "execution_count": 1,
   "metadata": {},
   "outputs": [],
   "source": [
    "import torch\n",
    "import numpy as np\n",
    "from mlagents.envs.environment import UnityEnvironment\n",
    "from ddpg_agent import Agents\n",
    "import matplotlib.pyplot as plt\n",
    "from collections import deque"
   ]
  },
  {
   "cell_type": "markdown",
   "metadata": {},
   "source": [
    "- Load the 'AirHockey' environment be sure to chose the folder path to where the App is build\n",
    "- Diplay information about the number of Brains, Agents, states and actions"
   ]
  },
  {
   "cell_type": "code",
   "execution_count": 2,
   "metadata": {},
   "outputs": [
    {
     "name": "stderr",
     "output_type": "stream",
     "text": [
      "INFO:mlagents.envs:\n",
      "'Academy' started successfully!\n",
      "Unity Academy name: Academy\n",
      "        Number of Brains: 2\n",
      "        Number of Training Brains : 1\n",
      "        Reset Parameters :\n",
      "\t\tscale -> 1.0\n",
      "\t\tgravity -> 9.8100004196167\n",
      "Unity brain name: HockeyBrain\n",
      "        Number of Visual Observations (per agent): 0\n",
      "        Vector Observation space size (per agent): 8\n",
      "        Number of stacked Vector Observation: 3\n",
      "        Vector Action space type: continuous\n",
      "        Vector Action space size (per agent): [2]\n",
      "        Vector Action descriptions: , \n",
      "Unity brain name: HockeyPlayer\n",
      "        Number of Visual Observations (per agent): 0\n",
      "        Vector Observation space size (per agent): 8\n",
      "        Number of stacked Vector Observation: 3\n",
      "        Vector Action space type: continuous\n",
      "        Vector Action space size (per agent): [2]\n",
      "        Vector Action descriptions: left, right\n"
     ]
    }
   ],
   "source": [
    "# env = UnityEnvironment(file_name = \"/Users/neil_panchal/Desktop/AirHockey.app\", worker_id=1)\n",
    "env = UnityEnvironment(file_name = 'AirHockey.app', worker_id=13)\n",
    "default_brain = env.brain_names[0]\n",
    "brain = env.brains[default_brain]"
   ]
  },
  {
   "cell_type": "markdown",
   "metadata": {},
   "source": [
    "- Test resetting the environment "
   ]
  },
  {
   "cell_type": "code",
   "execution_count": 3,
   "metadata": {},
   "outputs": [
    {
     "data": {
      "text/plain": [
       "array([[  0.        ,   0.        ,   0.        ,   0.        ,\n",
       "          0.        ,   0.        ,   0.        ,   0.        ,\n",
       "          0.        ,   0.        ,   0.        ,   0.        ,\n",
       "          0.        ,   0.        ,   0.        ,   0.        ,\n",
       "          3.38993621,   0.        ,  -0.        ,   0.        ,\n",
       "         -0.        ,   0.        , -20.        ,   1.        ],\n",
       "       [  0.        ,   0.        ,   0.        ,   0.        ,\n",
       "          0.        ,   0.        ,   0.        ,   0.        ,\n",
       "          0.        ,   0.        ,   0.        ,   0.        ,\n",
       "          0.        ,   0.        ,   0.        ,   0.        ,\n",
       "          2.70024681,   0.        ,   0.        ,   0.        ,\n",
       "          0.        ,   0.        ,  20.        ,   1.        ]])"
      ]
     },
     "execution_count": 3,
     "metadata": {},
     "output_type": "execute_result"
    }
   ],
   "source": [
    "train_mode = True\n",
    "# Reset the environment\n",
    "env_info = env.reset(train_mode=train_mode)[default_brain]\n",
    "env_info.vector_observations"
   ]
  },
  {
   "cell_type": "code",
   "execution_count": 4,
   "metadata": {},
   "outputs": [
    {
     "name": "stdout",
     "output_type": "stream",
     "text": [
      "Agent state looks like: \n",
      "[  0.           0.           0.           0.           0.\n",
      "   0.           0.           0.           0.           0.\n",
      "   0.           0.           0.           0.           0.\n",
      "   0.           3.38993621   0.          -0.           0.\n",
      "  -0.           0.         -20.           1.        ]\n"
     ]
    }
   ],
   "source": [
    "# Examine the state space for the default brain\n",
    "print(\"Agent state looks like: \\n{}\".format(env_info.vector_observations[0]))\n",
    "\n",
    "# Examine the observation space for the default brain\n",
    "for observation in env_info.visual_observations:\n",
    "    print(\"Agent observations look like:\")\n",
    "    if observation.shape[3] == 3:\n",
    "        plt.imshow(observation[0,:,:,:])\n",
    "    else:\n",
    "        plt.imshow(observation[0,:,:,0])"
   ]
  },
  {
   "cell_type": "code",
   "execution_count": 5,
   "metadata": {},
   "outputs": [
    {
     "name": "stdout",
     "output_type": "stream",
     "text": [
      "[0.0, 0.0]\n",
      "continuous\n"
     ]
    },
    {
     "data": {
      "text/plain": [
       "array([[  0.        ,   0.        ,   0.        ,   0.        ,\n",
       "          0.        ,   0.        ,   0.        ,   0.        ,\n",
       "          0.        ,   0.        ,   0.        ,   0.        ,\n",
       "          0.        ,   0.        ,   0.        ,   0.        ,\n",
       "          3.38993621,   0.        ,  -0.        ,   0.        ,\n",
       "         -0.        ,   0.        , -20.        ,   1.        ],\n",
       "       [  0.        ,   0.        ,   0.        ,   0.        ,\n",
       "          0.        ,   0.        ,   0.        ,   0.        ,\n",
       "          0.        ,   0.        ,   0.        ,   0.        ,\n",
       "          0.        ,   0.        ,   0.        ,   0.        ,\n",
       "          2.70024681,   0.        ,   0.        ,   0.        ,\n",
       "          0.        ,   0.        ,  20.        ,   1.        ]])"
      ]
     },
     "execution_count": 5,
     "metadata": {},
     "output_type": "execute_result"
    }
   ],
   "source": [
    "print(env_info.rewards)\n",
    "print(brain.vector_action_space_type)\n",
    "env_info.vector_observations"
   ]
  },
  {
   "cell_type": "markdown",
   "metadata": {},
   "source": [
    "# 2.0 Test Envionment with Random Actions"
   ]
  },
  {
   "cell_type": "code",
   "execution_count": 6,
   "metadata": {
    "scrolled": false
   },
   "outputs": [
    {
     "name": "stdout",
     "output_type": "stream",
     "text": [
      "Total reward this episode: -0.710000041872263\n",
      "Total reward this episode: -5.0100003546103835\n",
      "Total reward this episode: -2.6400001933798194\n",
      "Total reward this episode: -5.0100003546103835\n",
      "Total reward this episode: -3.1560002407059073\n",
      "Total reward this episode: -0.12900003232061863\n",
      "Total reward this episode: -0.09000001195818186\n",
      "Total reward this episode: -0.08600002340972424\n",
      "Total reward this episode: -0.9900000691413879\n",
      "Total reward this episode: -1.5800001258030534\n",
      "Total reward this episode: -0.06800002604722977\n",
      "Total reward this episode: -0.051000011153519154\n",
      "Total reward this episode: 0.015999987721443176\n",
      "Total reward this episode: -0.10900003090500832\n",
      "Total reward this episode: -0.10900003090500832\n",
      "Total reward this episode: -1.280000097118318\n",
      "Total reward this episode: -0.13600002694875002\n",
      "Total reward this episode: -0.640000051818788\n",
      "Total reward this episode: -0.049000026658177376\n",
      "Total reward this episode: -1.7700001318007708\n",
      "Total reward this episode: -0.08200001530349255\n",
      "Total reward this episode: -0.11200001742690802\n",
      "Total reward this episode: -0.10200001671910286\n",
      "Total reward this episode: -0.5600000387057662\n",
      "Total reward this episode: -0.10200001671910286\n",
      "Total reward this episode: -0.05000000912696123\n",
      "Total reward this episode: -4.710000324994326\n",
      "Total reward this episode: -0.00100000761449337\n",
      "Total reward this episode: -0.12700002826750278\n",
      "Total reward this episode: -0.11700002755969763\n",
      "Total reward this episode: -0.09300001803785563\n",
      "Total reward this episode: -0.01600001845508814\n",
      "Total reward this episode: -0.3000000203028321\n",
      "Total reward this episode: -5.0100003546103835\n",
      "Total reward this episode: -1.5900001116096973\n",
      "Total reward this episode: -0.10100001469254494\n",
      "Total reward this episode: -0.10300001874566078\n",
      "Total reward this episode: -0.044000016525387764\n",
      "Total reward this episode: -0.1040000207722187\n",
      "Total reward this episode: -0.7700000535696745\n",
      "Total reward this episode: -0.1110000154003501\n",
      "Total reward this episode: -5.060000357218087\n",
      "Total reward this episode: 0.019999995827674866\n",
      "Total reward this episode: -1.0560000920668244\n",
      "Total reward this episode: -0.7300000507384539\n",
      "Total reward this episode: 0.00199997890740633\n",
      "Total reward this episode: -0.0050000157207250595\n",
      "Total reward this episode: -0.11700002755969763\n",
      "Total reward this episode: -0.9980000918731093\n",
      "Total reward this episode: -3.478000267408788\n",
      "Total reward this episode: -3.0380002362653613\n",
      "Total reward this episode: -1.0200000712648034\n",
      "Total reward this episode: -0.11800002958625555\n",
      "Total reward this episode: 0.019999995827674866\n",
      "Total reward this episode: -0.12900003232061863\n",
      "Total reward this episode: -2.7400001855567098\n",
      "Total reward this episode: -2.070000145584345\n",
      "Total reward this episode: 0.03499998711049557\n",
      "Total reward this episode: -0.10600002482533455\n",
      "Total reward this episode: -1.1620000917464495\n",
      "Total reward this episode: -0.48000003956258297\n",
      "Total reward this episode: -0.10200001671910286\n",
      "Total reward this episode: 0.0319999810308218\n",
      "Total reward this episode: -2.7200001841410995\n",
      "Total reward this episode: -4.7300003338605165\n",
      "Total reward this episode: -0.11400002148002386\n",
      "Total reward this episode: -0.10900003090500832\n",
      "Total reward this episode: -1.3200001074001193\n",
      "Total reward this episode: -0.10100001469254494\n",
      "Total reward this episode: -0.14400002360343933\n",
      "Total reward this episode: -1.0000000772997737\n",
      "Total reward this episode: -1.4000000907108188\n",
      "Total reward this episode: -3.0200002202764153\n",
      "Total reward this episode: -1.380000096745789\n",
      "Total reward this episode: -0.11700002755969763\n",
      "Total reward this episode: -0.10200001671910286\n",
      "Total reward this episode: -0.041000010445714\n",
      "Total reward this episode: -0.17300002370029688\n",
      "Total reward this episode: -3.7800002666190267\n",
      "Total reward this episode: -1.0200000712648034\n",
      "Total reward this episode: 0.048999995924532413\n",
      "Total reward this episode: -0.07500002067536116\n",
      "Total reward this episode: -0.10200001671910286\n",
      "Total reward this episode: -0.026000019162893295\n",
      "Total reward this episode: -2.1200001565739512\n",
      "Total reward this episode: -1.690000118687749\n",
      "Total reward this episode: -0.11400002148002386\n",
      "Total reward this episode: -0.1080000288784504\n",
      "Total reward this episode: -0.04800002463161945\n",
      "Total reward this episode: -0.23000001534819603\n",
      "Total reward this episode: -1.9000001335516572\n",
      "Total reward this episode: -0.11200001742690802\n",
      "Total reward this episode: -0.5900000408291817\n",
      "Total reward this episode: -1.4000000907108188\n",
      "Total reward this episode: -0.1230000201612711\n",
      "Total reward this episode: -0.09000001195818186\n",
      "Total reward this episode: -0.2840000335127115\n",
      "Total reward this episode: -0.6700000390410423\n",
      "Total reward this episode: -2.500000183470547\n",
      "Total reward this episode: -5.0100003546103835\n"
     ]
    }
   ],
   "source": [
    "for episode in range(100):\n",
    "    env_info = env.reset(train_mode=train_mode)[default_brain]\n",
    "    done = False\n",
    "    episode_rewards = 0\n",
    "    while not done:\n",
    "        action_size = brain.vector_action_space_size\n",
    "        if brain.vector_action_space_type == 'continuous':\n",
    "            env_info = env.step(np.random.randn(len(env_info.agents), \n",
    "                                                action_size[0]))[default_brain]\n",
    "        else:\n",
    "            action = np.column_stack([np.random.randint(0, action_size[i], size=(len(env_info.agents))) for i in range(len(action_size))])\n",
    "            env_info = env.step(action)[default_brain]\n",
    "        episode_rewards += env_info.rewards[0]\n",
    "        done = env_info.local_done[0]\n",
    "    print(\"Total reward this episode: {}\".format(episode_rewards))"
   ]
  },
  {
   "cell_type": "markdown",
   "metadata": {},
   "source": [
    "# 3.0 Train the Agents\n",
    "- Agents: is the class for the agents. This is instantiated for 2 players\n",
    "- get_actions: returns the concatenated actions for both players in the form of a Markov Game and adds noise to encourage exploration\n",
    "- maddpg: is the multi-agent-deep-deterministic policy gradient traning method\n",
    "    - hyper parameters are: number of episodes\n",
    "    - OU noise for Policy Gradient\n",
    "    - max number of time steps\n",
    "    - reward required to solve the environment\n",
    "    - test: loads the trained weights of a NN and plays this against the environment\n"
   ]
  },
  {
   "cell_type": "code",
   "execution_count": 7,
   "metadata": {},
   "outputs": [],
   "source": [
    "# get the default brain\n",
    "brain_name = env.brain_names[0]\n",
    "brain = env.brains[brain_name]"
   ]
  },
  {
   "cell_type": "code",
   "execution_count": 8,
   "metadata": {},
   "outputs": [],
   "source": [
    "brain\n",
    "#reset the environment\n",
    "env_info = env.reset(train_mode=True)[brain_name]"
   ]
  },
  {
   "cell_type": "code",
   "execution_count": 9,
   "metadata": {},
   "outputs": [
    {
     "name": "stdout",
     "output_type": "stream",
     "text": [
      "Number of agents: 2\n",
      "Size of each action: [2]\n",
      "States is: [[ 0.00000000e+00  0.00000000e+00  0.00000000e+00  0.00000000e+00\n",
      "   0.00000000e+00  0.00000000e+00  0.00000000e+00  0.00000000e+00\n",
      "   0.00000000e+00  0.00000000e+00  0.00000000e+00  0.00000000e+00\n",
      "   0.00000000e+00  0.00000000e+00  0.00000000e+00  0.00000000e+00\n",
      "   3.32697582e+00  0.00000000e+00 -0.00000000e+00  0.00000000e+00\n",
      "  -2.71592617e+00  1.94946098e+00  1.05776620e+00  8.94069672e-08]\n",
      " [ 0.00000000e+00  0.00000000e+00  0.00000000e+00  0.00000000e+00\n",
      "   0.00000000e+00  0.00000000e+00  0.00000000e+00  0.00000000e+00\n",
      "   0.00000000e+00  0.00000000e+00  0.00000000e+00  0.00000000e+00\n",
      "   0.00000000e+00  0.00000000e+00  0.00000000e+00  0.00000000e+00\n",
      "   3.06033611e+00  0.00000000e+00  0.00000000e+00  0.00000000e+00\n",
      "   2.71592617e+00  1.94946098e+00 -1.05776620e+00  8.94069672e-08]]\n",
      "(24,)\n",
      "There are 2 agents. Each observes a state with length: (24,)\n",
      "The state for the first agent looks like: [ 0.00000000e+00  0.00000000e+00  0.00000000e+00  0.00000000e+00\n",
      "  0.00000000e+00  0.00000000e+00  0.00000000e+00  0.00000000e+00\n",
      "  0.00000000e+00  0.00000000e+00  0.00000000e+00  0.00000000e+00\n",
      "  0.00000000e+00  0.00000000e+00  0.00000000e+00  0.00000000e+00\n",
      "  3.32697582e+00  0.00000000e+00 -0.00000000e+00  0.00000000e+00\n",
      " -2.71592617e+00  1.94946098e+00  1.05776620e+00  8.94069672e-08]\n"
     ]
    }
   ],
   "source": [
    "#\n",
    "\n",
    "# number of agents \n",
    "num_agents = len(env_info.agents)\n",
    "print('Number of agents:', num_agents)\n",
    "\n",
    "# size of each action\n",
    "action_size = brain.vector_action_space_size\n",
    "print('Size of each action:', action_size)\n",
    "\n",
    "# examine the state space \n",
    "states = env_info.vector_observations\n",
    "print('States is:', states)\n",
    "state_size = np.shape(states[1])\n",
    "print(state_size)\n",
    "# state_size=8\n",
    "print('There are {} agents. Each observes a state with length: {}'.format(states.shape[0], state_size))\n",
    "print('The state for the first agent looks like:', states[0])"
   ]
  },
  {
   "cell_type": "code",
   "execution_count": 10,
   "metadata": {},
   "outputs": [
    {
     "data": {
      "text/plain": [
       "2"
      ]
     },
     "execution_count": 10,
     "metadata": {},
     "output_type": "execute_result"
    }
   ],
   "source": [
    "action_size[0]"
   ]
  },
  {
   "cell_type": "code",
   "execution_count": 11,
   "metadata": {},
   "outputs": [
    {
     "name": "stdout",
     "output_type": "stream",
     "text": [
      "cpu\n",
      "False\n"
     ]
    }
   ],
   "source": [
    "device = torch.device(\"cuda:0\" if torch.cuda.is_available() else \"cpu\")\n",
    "print(device)\n",
    "print((device is  \"cuda:0\"))"
   ]
  },
  {
   "cell_type": "code",
   "execution_count": 12,
   "metadata": {},
   "outputs": [],
   "source": [
    "# env_info = env.reset(train_mode=train_mode)[brain_name] \n",
    "# actions = get_actions(states, addNoise)           \n",
    "# env_info = env.step(actions)[brain_name] \n",
    "# np.shape(env_info.vector_observations)"
   ]
  },
  {
   "cell_type": "code",
   "execution_count": 13,
   "metadata": {},
   "outputs": [
    {
     "name": "stdout",
     "output_type": "stream",
     "text": [
      "state size is: 24\n",
      "action size is : 2\n",
      "on init device is: cpu\n",
      "False\n",
      "action size is:  2\n",
      "action size is:  2\n",
      "on init device is: cpu\n",
      "False\n",
      "action size is:  2\n",
      "action size is:  2\n"
     ]
    }
   ],
   "source": [
    "\n",
    "# num_agents=1\n",
    "# agent = Agents(state_size=state_size, action_size=action_size, num_agents=num_agents, random_seed=0)\n",
    "# agent.action_size\n",
    "print('state size is:', state_size[0])\n",
    "print('action size is :', action_size[0])\n",
    "agent_0 = Agents(state_size=state_size[0], action_size=action_size[0], num_agents=1, random_seed=0)\n",
    "agent_1 = Agents(state_size=state_size[0], action_size=action_size[0], num_agents=1, random_seed=0)"
   ]
  },
  {
   "cell_type": "code",
   "execution_count": 14,
   "metadata": {},
   "outputs": [],
   "source": [
    "def get_actions(states, add_noise):\n",
    "    '''gets actions for each agent and then combines them into one array'''\n",
    "    action_0 = agent_0.act(states, add_noise)    \n",
    "    action_1 = agent_1.act(states, add_noise)   \n",
    "    return np.concatenate((action_0, action_1), axis=0).flatten()"
   ]
  },
  {
   "cell_type": "code",
   "execution_count": 15,
   "metadata": {},
   "outputs": [],
   "source": [
    "solved = 1\n",
    "consecutiveEpisodes = 10\n",
    "printFrequency = 1\n",
    "addNoise = True\n",
    "\n",
    "def Maddpg(n_episodes=20, max_t=1000, train_mode=True):\n",
    "    \"\"\"Multi-Agent Deep Deterministic Policy Gradient (MADDPG)\n",
    "    \n",
    "    Params\n",
    "    ======\n",
    "        n_episodes (int)      : maximum number of training episodes\n",
    "        max_t (int)           : maximum number of timesteps per episode\n",
    "        train_mode (bool)     : if 'True' set environment to training mode\n",
    "\n",
    "    \"\"\"\n",
    "    scores_window = deque(maxlen=consecutiveEpisodes)\n",
    "    scores_all = []\n",
    "    moving_average = []\n",
    "    best_score = -np.inf\n",
    "    best_episode = 0\n",
    "    already_solved = False    \n",
    "\n",
    "    for i_episode in range(1, n_episodes+1):\n",
    "        env_info = env.reset(train_mode=train_mode)[brain_name]  \n",
    "        states = np.reshape(env_info.vector_observations, (1,48)) # combine states\n",
    "        agent_0.reset()\n",
    "        agent_1.reset()\n",
    "        scores = np.zeros(num_agents)\n",
    "        while True:\n",
    "            actions = get_actions(states, addNoise)           \n",
    "            env_info = env.step(actions)[brain_name] \n",
    "#             print('shape of observations is', np.shape(env_info.vector_observations))\n",
    "#             print('observations are', env_info.vector_observations)\n",
    "#             print('actions', actions)\n",
    "            next_states = np.reshape(env_info.vector_observations, (1, 48)) # combine the agent next states\n",
    "            rewards = env_info.rewards                         # get reward        \n",
    "            done = env_info.local_done                         # see if episode finished\n",
    "            agent_0.step(states, actions, rewards[0], next_states, done, 0) # agent 1 learning\n",
    "            agent_1.step(states, actions, rewards[1], next_states, done, 1) # agent 2 learning\n",
    "            scores += np.max(rewards)                          # update the score for each agent\n",
    "            states = next_states                              \n",
    "            if np.any(done):                                   # exit loop if episode finished\n",
    "                break\n",
    "\n",
    "        ep_best_score = np.max(scores)\n",
    "        scores_window.append(ep_best_score)\n",
    "        scores_all.append(ep_best_score)\n",
    "        moving_average.append(np.mean(scores_window))\n",
    "\n",
    "        # save best score                        \n",
    "        if ep_best_score > best_score:\n",
    "            best_score = ep_best_score\n",
    "            best_episode = i_episode\n",
    "        \n",
    "        # print results\n",
    "        if i_episode % printFrequency == 0:\n",
    "            print('Episodes {:0>4d}-{:0>4d}\\tMax Reward: {:.3f}\\tMoving Average: {:.3f}'.format(\n",
    "                i_episode-printFrequency, i_episode, np.max(scores_all[-printFrequency:]), moving_average[-1]))\n",
    "\n",
    "        # determine if environment is solved and keep best performing models\n",
    "        if moving_average[-1] >= solved:\n",
    "            if not already_solved:\n",
    "                print('<-- Environment solved in {:d} episodes! \\\n",
    "                \\n<-- Moving Average: {:.3f} over past {:d} episodes'.format(\n",
    "                    i_episode-consecutiveEpisodes, moving_average[-1], consecutiveEpisodes))\n",
    "                already_solved = True\n",
    "                # save weights\n",
    "                torch.save(agent_0.actor_local.state_dict(), 'checkpoint_actor_0.pth')\n",
    "                torch.save(agent_0.critic_local.state_dict(), 'checkpoint_critic_0.pth')\n",
    "                torch.save(agent_1.actor_local.state_dict(), 'checkpoint_actor_1.pth')\n",
    "                torch.save(agent_1.critic_local.state_dict(), 'checkpoint_critic_1.pth')\n",
    "            elif ep_best_score >= best_score:\n",
    "                print('<-- Best episode so far!\\\n",
    "                \\nEpisode {:0>4d}\\tMax Reward: {:.3f}\\tMoving Average: {:.3f}'.format(\n",
    "                i_episode, ep_best_score, moving_average[-1]))\n",
    "                # save weights\n",
    "                torch.save(agent_0.actor_local.state_dict(), 'checkpoint_actor_0.pth')\n",
    "                torch.save(agent_0.critic_local.state_dict(), 'checkpoint_critic_0.pth')\n",
    "                torch.save(agent_1.actor_local.state_dict(), 'checkpoint_actor_1.pth')\n",
    "                torch.save(agent_1.critic_local.state_dict(), 'checkpoint_critic_1.pth')\n",
    "            elif (i_episode-best_episode) >= 100:\n",
    "                # stop training if model stops converging\n",
    "                print('<-- Training stopped. Best score not matched or exceeded for 200 episodes')\n",
    "                break\n",
    "            else:\n",
    "                continue\n",
    "            \n",
    "    return scores_all, moving_average"
   ]
  },
  {
   "cell_type": "code",
   "execution_count": 16,
   "metadata": {},
   "outputs": [
    {
     "name": "stdout",
     "output_type": "stream",
     "text": [
      "Episodes 0000-0001\tMax Reward: -0.295\tMoving Average: -0.295\n",
      "Episodes 0001-0002\tMax Reward: -0.107\tMoving Average: -0.201\n"
     ]
    },
    {
     "name": "stderr",
     "output_type": "stream",
     "text": [
      "/Users/neil_panchal/Desktop/ddpg_agent.py:139: UserWarning: Using a target size (torch.Size([128, 2])) that is different to the input size (torch.Size([128, 1])). This will likely lead to incorrect results due to broadcasting. Please ensure they have the same size.\n",
      "  critic_loss = F.mse_loss(Q_expected, Q_targets)\n"
     ]
    },
    {
     "name": "stdout",
     "output_type": "stream",
     "text": [
      "Episodes 0002-0003\tMax Reward: -1.290\tMoving Average: -0.564\n",
      "Episodes 0003-0004\tMax Reward: -1.715\tMoving Average: -0.852\n",
      "Episodes 0004-0005\tMax Reward: -2.708\tMoving Average: -1.223\n",
      "Episodes 0005-0006\tMax Reward: -1.808\tMoving Average: -1.321\n",
      "Episodes 0006-0007\tMax Reward: -0.526\tMoving Average: -1.207\n",
      "Episodes 0007-0008\tMax Reward: 0.012\tMoving Average: -1.055\n",
      "Episodes 0008-0009\tMax Reward: -0.054\tMoving Average: -0.943\n",
      "Episodes 0009-0010\tMax Reward: -3.570\tMoving Average: -1.206\n",
      "Episodes 0010-0011\tMax Reward: -1.049\tMoving Average: -1.282\n",
      "Episodes 0011-0012\tMax Reward: 0.020\tMoving Average: -1.269\n",
      "Episodes 0012-0013\tMax Reward: -2.544\tMoving Average: -1.394\n",
      "Episodes 0013-0014\tMax Reward: -1.724\tMoving Average: -1.395\n",
      "Episodes 0014-0015\tMax Reward: -1.601\tMoving Average: -1.284\n",
      "Episodes 0015-0016\tMax Reward: -0.033\tMoving Average: -1.107\n",
      "Episodes 0016-0017\tMax Reward: 0.021\tMoving Average: -1.052\n",
      "Episodes 0017-0018\tMax Reward: -2.378\tMoving Average: -1.291\n",
      "Episodes 0018-0019\tMax Reward: -0.094\tMoving Average: -1.295\n",
      "Episodes 0019-0020\tMax Reward: -1.702\tMoving Average: -1.108\n"
     ]
    },
    {
     "data": {
      "image/png": "[encoded data removed]",
      "text/plain": [
       "<Figure size 432x288 with 1 Axes>"
      ]
     },
     "metadata": {
      "needs_background": "light"
     },
     "output_type": "display_data"
    }
   ],
   "source": [
    "scores, averages = Maddpg()\n",
    "\n",
    "fig = plt.figure()\n",
    "ax = fig.add_subplot(111)\n",
    "plt.plot(np.arange(1, len(scores)+1), scores)\n",
    "plt.ylabel('Score')\n",
    "plt.xlabel('Episode #')\n",
    "plt.show()"
   ]
  },
  {
   "cell_type": "code",
   "execution_count": 17,
   "metadata": {},
   "outputs": [],
   "source": [
    "CONSEC_EPISODES = 10\n",
    "PRINT_EVERY = 1\n",
    "addNoise = False"
   ]
  },
  {
   "cell_type": "code",
   "execution_count": 18,
   "metadata": {},
   "outputs": [
    {
     "name": "stdout",
     "output_type": "stream",
     "text": [
      "on init device is: cpu\n",
      "False\n",
      "action size is:  2\n",
      "action size is:  2\n",
      "on init device is: cpu\n",
      "False\n",
      "action size is:  2\n",
      "action size is:  2\n"
     ]
    },
    {
     "data": {
      "text/plain": [
       "<All keys matched successfully>"
      ]
     },
     "execution_count": 18,
     "metadata": {},
     "output_type": "execute_result"
    }
   ],
   "source": [
    "## reinitialize the agents (if needed)\n",
    "agent_0 = Agents(state_size[0], action_size[0], num_agents=1, random_seed=0)\n",
    "agent_1 = Agents(state_size[0], action_size[0], num_agents=1, random_seed=0)\n",
    "\n",
    "# load the weights from file\n",
    "agent_0_weights = 'checkpoint_actor_0.pth'\n",
    "agent_1_weights = 'checkpoint_actor_1.pth'\n",
    "agent_0.actor_local.load_state_dict(torch.load(agent_0_weights))\n",
    "agent_1.actor_local.load_state_dict(torch.load(agent_1_weights))"
   ]
  },
  {
   "cell_type": "code",
   "execution_count": 19,
   "metadata": {},
   "outputs": [
    {
     "name": "stdout",
     "output_type": "stream",
     "text": [
      "Episodes 0000-0001\tMax Reward: -0.155\tMoving Average: -0.155\n",
      "Episodes 0001-0002\tMax Reward: -0.119\tMoving Average: -0.137\n",
      "Episodes 0002-0003\tMax Reward: -5.010\tMoving Average: -1.761\n",
      "Episodes 0003-0004\tMax Reward: -5.010\tMoving Average: -2.574\n",
      "Episodes 0004-0005\tMax Reward: -5.010\tMoving Average: -3.061\n",
      "Episodes 0005-0006\tMax Reward: -5.010\tMoving Average: -3.386\n",
      "Episodes 0006-0007\tMax Reward: -5.010\tMoving Average: -3.618\n",
      "Episodes 0007-0008\tMax Reward: -5.010\tMoving Average: -3.792\n",
      "Episodes 0008-0009\tMax Reward: -5.010\tMoving Average: -3.927\n",
      "Episodes 0009-0010\tMax Reward: -2.082\tMoving Average: -3.743\n"
     ]
    },
    {
     "data": {
      "text/plain": [
       "([-0.1550000263378024,\n",
       "  -0.11900003161281347,\n",
       "  -5.0100003546103835,\n",
       "  -5.0100003546103835,\n",
       "  -5.0100003546103835,\n",
       "  -5.0100003546103835,\n",
       "  -5.0100003546103835,\n",
       "  -5.0100003546103835,\n",
       "  -5.0100003546103835,\n",
       "  -2.082000156864524],\n",
       " [-0.1550000263378024,\n",
       "  -0.13700002897530794,\n",
       "  -1.7613334708536665,\n",
       "  -2.5735001917928457,\n",
       "  -3.0608002243563535,\n",
       "  -3.385666912732025,\n",
       "  -3.6177145472860763,\n",
       "  -3.7917502732016146,\n",
       "  -3.9271113933581443,\n",
       "  -3.7426002697087823])"
      ]
     },
     "execution_count": 19,
     "metadata": {},
     "output_type": "execute_result"
    }
   ],
   "source": [
    "def test(n_episodes=10, max_t=1000, train_mode=False):\n",
    "\n",
    "    scores_window = deque(maxlen=consecutiveEpisodes)\n",
    "    scores_all = []\n",
    "    moving_average = []  \n",
    "\n",
    "    for i_episode in range(1, n_episodes+1):\n",
    "        env_info = env.reset(train_mode=train_mode)[brain_name]         # reset the environment\n",
    "        states = np.reshape(env_info.vector_observations, (1,48)) # get states and combine them\n",
    "        scores = np.zeros(num_agents)\n",
    "        while True:\n",
    "            actions = get_actions(states, addNoise)           # choose agent actions and combine them\n",
    "            env_info = env.step(actions)[brain_name]           # send both agents' actions together to the environment\n",
    "            next_states = np.reshape(env_info.vector_observations, (1, 48)) # combine the agent next states\n",
    "            rewards = env_info.rewards                         # get reward\n",
    "            done = env_info.local_done                         # see if episode finished\n",
    "            scores += np.max(rewards)                          # update the score for each agent\n",
    "            states = next_states                               # roll over states to next time step\n",
    "            if np.any(done):                                   # exit loop if episode finished\n",
    "                break\n",
    "\n",
    "        ep_best_score = np.max(scores)\n",
    "        scores_window.append(ep_best_score)\n",
    "        scores_all.append(ep_best_score)\n",
    "        moving_average.append(np.mean(scores_window))\n",
    "\n",
    "        # print results\n",
    "        if i_episode % printFrequency == 0:\n",
    "            print('Episodes {:0>4d}-{:0>4d}\\tMax Reward: {:.3f}\\tMoving Average: {:.3f}'.format(\n",
    "                i_episode-printFrequency, i_episode, np.max(scores_all[-PRINT_EVERY:]), moving_average[-1]))\n",
    "            \n",
    "    return scores_all, moving_average\n",
    "test()\n",
    "\n"
   ]
  },
  {
   "cell_type": "code",
   "execution_count": null,
   "metadata": {},
   "outputs": [],
   "source": []
  },
  {
   "cell_type": "code",
   "execution_count": null,
   "metadata": {},
   "outputs": [],
   "source": []
  },
  {
   "cell_type": "code",
   "execution_count": null,
   "metadata": {},
   "outputs": [],
   "source": []
  },
  {
   "cell_type": "code",
   "execution_count": null,
   "metadata": {},
   "outputs": [],
   "source": []
  },
  {
   "cell_type": "code",
   "execution_count": null,
   "metadata": {},
   "outputs": [],
   "source": []
  },
  {
   "cell_type": "code",
   "execution_count": null,
   "metadata": {},
   "outputs": [],
   "source": []
  },
  {
   "cell_type": "code",
   "execution_count": null,
   "metadata": {},
   "outputs": [],
   "source": []
  },
  {
   "cell_type": "code",
   "execution_count": null,
   "metadata": {},
   "outputs": [],
   "source": []
  },
  {
   "cell_type": "code",
   "execution_count": null,
   "metadata": {},
   "outputs": [],
   "source": []
  }
 ],
 "metadata": {
  "kernelspec": {
   "display_name": "Python 3",
   "language": "python",
   "name": "python3"
  },
  "language_info": {
   "codemirror_mode": {
    "name": "ipython",
    "version": 3
   },
   "file_extension": ".py",
   "mimetype": "text/x-python",
   "name": "python",
   "nbconvert_exporter": "python",
   "pygments_lexer": "ipython3",
   "version": "3.6.9"
  }
 },
 "nbformat": 4,
 "nbformat_minor": 2
}
